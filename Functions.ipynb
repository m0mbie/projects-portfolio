{
  "nbformat": 4,
  "nbformat_minor": 0,
  "metadata": {
    "colab": {
      "provenance": [],
      "authorship_tag": "ABX9TyMOZnz5pmKKyUY1q8qUB+++",
      "include_colab_link": true
    },
    "kernelspec": {
      "name": "python3",
      "display_name": "Python 3"
    },
    "language_info": {
      "name": "python"
    }
  },
  "cells": [
    {
      "cell_type": "markdown",
      "metadata": {
        "id": "view-in-github",
        "colab_type": "text"
      },
      "source": [
        "<a href=\"https://colab.research.google.com/github/m0mbie/projects-portfolio/blob/main/Functions.ipynb\" target=\"_parent\"><img src=\"https://colab.research.google.com/assets/colab-badge.svg\" alt=\"Open In Colab\"/></a>"
      ]
    },
    {
      "cell_type": "markdown",
      "source": [
        "Functions\n",
        "Oct 2023"
      ],
      "metadata": {
        "id": "Ddb8qhlMVtVq"
      }
    },
    {
      "cell_type": "code",
      "execution_count": null,
      "metadata": {
        "id": "toYuRYCsVo0x"
      },
      "outputs": [],
      "source": [
        "\n",
        "\n",
        "\n",
        "# # declare the function\n",
        "# def hello():\n",
        "#     # function body\n",
        "#     greet = (\"Hello world!\")\n",
        "#     print(greet.upper())\n",
        "\n",
        "# # call the function\n",
        "# hello()\n",
        "\n",
        "# def add_numbers(num1, num2):\n",
        "#     sum = num1 + num2\n",
        "#     print(sum)\n",
        "\n",
        "\n",
        "# add_numbers(1,2)\n",
        "\n",
        "def find_square(num):\n",
        "    sum = num * num\n",
        "    return sum\n",
        "\n",
        "square = find_square(int(input(\"enter number you want to square: \")))\n",
        "\n",
        "print(f\"That number squared is: {square}\")\n",
        "\n",
        "\n",
        "\n",
        "\n"
      ]
    }
  ]
}