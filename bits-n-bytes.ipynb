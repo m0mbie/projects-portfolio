{
  "nbformat": 4,
  "nbformat_minor": 0,
  "metadata": {
    "colab": {
      "provenance": [],
      "authorship_tag": "ABX9TyPWjD67e1BeJ/a8NQeV6jMr",
      "include_colab_link": true
    },
    "kernelspec": {
      "name": "python3",
      "display_name": "Python 3"
    },
    "language_info": {
      "name": "python"
    }
  },
  "cells": [
    {
      "cell_type": "markdown",
      "metadata": {
        "id": "view-in-github",
        "colab_type": "text"
      },
      "source": [
        "<a href=\"https://colab.research.google.com/github/m0mbie/projects-portfolio/blob/main/bits-n-bytes.ipynb\" target=\"_parent\"><img src=\"https://colab.research.google.com/assets/colab-badge.svg\" alt=\"Open In Colab\"/></a>"
      ]
    },
    {
      "cell_type": "markdown",
      "source": [
        "Bits"
      ],
      "metadata": {
        "id": "e-QDcA_DjRaf"
      }
    },
    {
      "cell_type": "code",
      "source": [
        "#===================== find BITS: ===================================\n",
        "#  How many bits are in a byte... multiply by 8 to convert bytes to bits\n",
        "print()\n",
        "print()\n",
        "# number of bytes\n",
        "bytes = int(input(\"Enter the number of bytes to convert to bits: \"))\n",
        "# output bit\n",
        "bits = bytes * 8\n",
        "print(f\"there are {bits}bit(s) in {bytes} byte(s).\")\n",
        "\n",
        "print()"
      ],
      "metadata": {
        "id": "WpvqnRhvjQOU"
      },
      "execution_count": null,
      "outputs": []
    },
    {
      "cell_type": "markdown",
      "source": [
        "Bytes"
      ],
      "metadata": {
        "id": "K7iMZnQGjXKA"
      }
    },
    {
      "cell_type": "code",
      "source": [
        "#===================== find BYTES: ===================================\n",
        "#  How many bytes are in bits... divide by 8 to convert bits to bytes\n",
        "print()\n",
        "print()\n",
        "# number of bytes\n",
        "bits = int(input(\"Enter the number of bits to convert to bytes: \"))\n",
        "# output bit\n",
        "bytes = bits / 8\n",
        "print(f\"there are {bytes}byte(s) in {bits} bit(s).\")\n",
        "\n",
        "print()"
      ],
      "metadata": {
        "id": "0_Cat2KcjIb-"
      },
      "execution_count": null,
      "outputs": []
    },
    {
      "cell_type": "markdown",
      "source": [
        "Sample from freeCodeCamp.org"
      ],
      "metadata": {
        "id": "l7FaDfRSjhc0"
      }
    },
    {
      "cell_type": "code",
      "execution_count": 2,
      "metadata": {
        "colab": {
          "base_uri": "https://localhost:8080/"
        },
        "id": "28HSfhguiNuQ",
        "outputId": "e543e3d7-1ac3-4ab1-8d03-ca03c353b70c"
      },
      "outputs": [
        {
          "output_type": "stream",
          "name": "stdout",
          "text": [
            "\n",
            "\n",
            "Enter the number of bytes to convert to bits: 64\n",
            "there are 512bit(s) in 64 byte(s).\n",
            "\n",
            "\n",
            "\n",
            "Enter the number of bits to convert to bytes: 64\n",
            "there are 8.0byte(s) in 64 bit(s).\n",
            "\n"
          ]
        }
      ],
      "source": [
        "# ===================== SIMPLE BITS AND BYTES CONVERTER ============================================\n",
        "# bit = 0, byte = 8\n",
        "\n",
        "# find BYTES:\n",
        "# How many bytes are in a bit... Divide by 8 to convert from bits to bytes...\n",
        "# print()\n",
        "# print()\n",
        "# numbers =\"1011100111011011011010010011010101111111\"\n",
        "# numbers_len = (len(numbers))\n",
        "# print(f\"{numbers_len} numbers\")\n",
        "# bytes = numbers_len / 8\n",
        "# print(f\"there are {bytes}bytes in {numbers_len} numbers.\")\n",
        "\n",
        "# print()\n"
      ]
    }
  ]
}