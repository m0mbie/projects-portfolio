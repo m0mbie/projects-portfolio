{
  "nbformat": 4,
  "nbformat_minor": 0,
  "metadata": {
    "colab": {
      "provenance": [],
      "authorship_tag": "ABX9TyMxl60rpSm3GYLKkLt7xOiL",
      "include_colab_link": true
    },
    "kernelspec": {
      "name": "python3",
      "display_name": "Python 3"
    },
    "language_info": {
      "name": "python"
    }
  },
  "cells": [
    {
      "cell_type": "markdown",
      "metadata": {
        "id": "view-in-github",
        "colab_type": "text"
      },
      "source": [
        "<a href=\"https://colab.research.google.com/github/m0mbie/projects-portfolio/blob/main/week_1_.ipynb\" target=\"_parent\"><img src=\"https://colab.research.google.com/assets/colab-badge.svg\" alt=\"Open In Colab\"/></a>"
      ]
    },
    {
      "cell_type": "code",
      "source": [
        "# Proportions\n",
        "# Put a zero in for the uknown value\n",
        "#\n",
        "\n",
        "n1 = 1\n",
        "d1 = 2\n",
        "n2 = 0\n",
        "d2 = 16\n",
        "\n",
        "if n2 == 0:\n",
        "    answer = d2 * n1 / d1\n",
        "    print(answer)"
      ],
      "metadata": {
        "colab": {
          "base_uri": "https://localhost:8080/"
        },
        "id": "Op1XFG1MaAYl",
        "outputId": "e7cac347-3172-481d-948e-e201ca8944d7"
      },
      "execution_count": 3,
      "outputs": [
        {
          "output_type": "stream",
          "name": "stdout",
          "text": [
            "8.0\n"
          ]
        }
      ]
    },
    {
      "cell_type": "code",
      "source": [
        "print(\"Welcome to the Fraction Calculator!\")\n",
        "print(\"You'll be entering numbers for two fractions and a whole number to subtract at the end.\")\n",
        "\n",
        "def calculate_fraction():\n",
        "    # Get numbers for the first fraction\n",
        "    whole1 = int(input(\"Enter the first whole number: \"))\n",
        "    n1 = int(input(\"Enter the top number (numerator) of the first fraction: \"))\n",
        "    d1 = int(input(\"Enter the bottom number (denominator) of the first fraction: \"))\n",
        "\n",
        "    # Get numbers for the second fraction\n",
        "    whole2 = int(input(\"Enter the second whole number: \"))\n",
        "    n2 = int(input(\"Enter the top number (numerator) of the second fraction: \"))\n",
        "    d2 = int(input(\"Enter the bottom number (denominator) of the second fraction: \"))\n",
        "\n",
        "    # Get the last whole number for subtraction\n",
        "    whole3 = int(input(\"Enter the whole number you want to subtract: \"))\n",
        "\n",
        "    # Calculate the result\n",
        "    answer = (whole1 + n1 / d1 + whole2 + n2 / d2 - whole3)\n",
        "\n",
        "    print(f\"The answer is: {answer}\")\n",
        "\n",
        "# Program starts with calling the function\n",
        "calculate_fraction()\n",
        "\n",
        "# Ask user if they want to do another calculation\n",
        "while True:\n",
        "    try:\n",
        "        continue_or_not = input(\"Do another calculation? (yes or no): \").lower()\n",
        "\n",
        "        if continue_or_not in [\"yes\", \"y\"]:\n",
        "            calculate_fraction()\n",
        "        elif continue_or_not in [\"no\", \"n\"]:\n",
        "            print(\"Thanks for using the Fraction Calculator. Bye!\")\n",
        "            break\n",
        "        else:\n",
        "            print(\"Hm. Please answer with a 'yes' or 'no'.\")\n",
        "    except:\n",
        "        print(\"Uh-oh! Something went wrong. Program ending...\")\n"
      ],
      "metadata": {
        "id": "lQRltZYSPVW8"
      },
      "execution_count": null,
      "outputs": []
    }
  ]
}