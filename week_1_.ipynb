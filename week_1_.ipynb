{
  "nbformat": 4,
  "nbformat_minor": 0,
  "metadata": {
    "colab": {
      "provenance": [],
      "authorship_tag": "ABX9TyOxjLqnBpC8OvorNlzH83XO",
      "include_colab_link": true
    },
    "kernelspec": {
      "name": "python3",
      "display_name": "Python 3"
    },
    "language_info": {
      "name": "python"
    }
  },
  "cells": [
    {
      "cell_type": "markdown",
      "metadata": {
        "id": "view-in-github",
        "colab_type": "text"
      },
      "source": [
        "<a href=\"https://colab.research.google.com/github/m0mbie/projects-portfolio/blob/main/week_1_.ipynb\" target=\"_parent\"><img src=\"https://colab.research.google.com/assets/colab-badge.svg\" alt=\"Open In Colab\"/></a>"
      ]
    },
    {
      "cell_type": "code",
      "source": [
        "# Proportions\n",
        "# Put a zero in for the uknown value\n",
        "#\n",
        "\n",
        "n1 = 1\n",
        "d1 = 2\n",
        "n2 = 0\n",
        "d2 = 16\n",
        "\n",
        "if n2 == 0:\n",
        "    answer = d2 * n1 / d1\n",
        "    print(answer)"
      ],
      "metadata": {
        "colab": {
          "base_uri": "https://localhost:8080/"
        },
        "id": "Op1XFG1MaAYl",
        "outputId": "e7cac347-3172-481d-948e-e201ca8944d7"
      },
      "execution_count": 3,
      "outputs": [
        {
          "output_type": "stream",
          "name": "stdout",
          "text": [
            "8.0\n"
          ]
        }
      ]
    },
    {
      "cell_type": "code",
      "source": [
        "# Extra problem\n",
        "print(\"freeCodeCamp\\n\\nAlg 004 extra: Finding the probability of fractions \\n\\n\")\n",
        "print(\"Instructions: First, you will enter the first whole number of your equation.\\n\")\n",
        "print(\"Second, you will enter the first numerator.\")\n",
        "print(\"Third, you will enter the first denominator.\")\n",
        "print(\"NEXT, you will enter the same formula as above, only for the second fraction. Make sense? Good. :)\\n\\nHave fun.\")\n",
        "\n",
        "\n",
        "\n",
        "whole1 = input(int(\"Enter the first whole number: \\n\"))\n",
        "n1 = input(int(\"Enter the first numerator: \\n\"))\n",
        "d1 = input(int(\"Enter the first denominator: \\n\"))\n",
        "\n",
        "whole2 = input(int(\"Enter the second whole number\"))\n",
        "n2 = input(int())\n",
        "d2 = input(int())\n",
        "\n",
        "whole3 = input(int())\n",
        "\n",
        "\n",
        "answer = (whole1 + n1 / d2 + whole2 + n2 / d2 - whole3)\n",
        "\n",
        "\n",
        "print(answer)\n",
        "\n",
        "\n",
        "\n",
        "\n",
        "\n",
        "\n",
        "\n",
        "\n"
      ],
      "metadata": {
        "id": "wzXLLE6pahaB"
      },
      "execution_count": null,
      "outputs": []
    }
  ]
}